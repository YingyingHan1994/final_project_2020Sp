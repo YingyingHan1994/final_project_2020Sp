{
 "cells": [
  {
   "cell_type": "markdown",
   "metadata": {},
   "source": [
    "# Final Project: Analysis of Two Museum Datasets\n",
    "\n",
    "Name(NetID): Jenna Kim(jkim682) | Yingying Han(yh17) | Xinyu Huang(xinyuh10) \n",
    "\n"
   ]
  },
  {
   "cell_type": "markdown",
   "metadata": {},
   "source": [
    "## Data\n",
    "\n",
    "We used three different datasets:\n",
    "\n",
    "1) Two meseum datasets: Metropolitan & Indianapolis  \n",
    "2) World Bank dataset:  \n",
    "3) Ethnicity dataset:\n"
   ]
  },
  {
   "cell_type": "markdown",
   "metadata": {},
   "source": [
    "## Data Preprocessing\n",
    "\n",
    "1) We integrated two meseum datasets  \n",
    "2) We merged two World bank datasets   \n",
    "3) We merged two ethnicity datasets"
   ]
  },
  {
   "cell_type": "markdown",
   "metadata": {},
   "source": [
    "## Load Data\n",
    "\n",
    "### Yingying & Xinyu, you can work on the following processed datasets\n",
    "#### Note: I integrated three .py scripts we had created for collecting data. Please see \"museum_data.py\" file."
   ]
  },
  {
   "cell_type": "code",
   "execution_count": 3,
   "metadata": {},
   "outputs": [],
   "source": [
    "import pandas as pd\n",
    "\n",
    "file1 = \"museum.csv\"\n",
    "file2 = \"world_bank.csv\"\n",
    "file3 = \"ethnicity.csv\"\n",
    "    \n",
    "museum_df = pd.read_csv(file1, index_col=False, low_memory=False)\n",
    "population_df = pd.read_csv(file2, index_col=False, low_memory=False)\n",
    "ethnicity_df = pd.read_csv(file3, index_col=False, low_memory=False)"
   ]
  },
  {
   "cell_type": "code",
   "execution_count": 12,
   "metadata": {},
   "outputs": [
    {
     "data": {
      "text/plain": [
       "(109, 2)"
      ]
     },
     "execution_count": 12,
     "metadata": {},
     "output_type": "execute_result"
    }
   ],
   "source": [
    "museum_df.tail()\n",
    "museum_df.shape   # (485632, 15)\n",
    "\n",
    "# population_df.head()\n",
    "population_df.shape   # (263, 5)\n",
    "\n",
    "# ethnicity_df.head()\n",
    "ethnicity_df.shape   # (109, 2)"
   ]
  },
  {
   "cell_type": "markdown",
   "metadata": {},
   "source": [
    "## Analysis 1 : Distribution of artifacts by geographical information"
   ]
  },
  {
   "cell_type": "markdown",
   "metadata": {},
   "source": [
    "### Within USA (By States)"
   ]
  },
  {
   "cell_type": "code",
   "execution_count": null,
   "metadata": {},
   "outputs": [],
   "source": []
  },
  {
   "cell_type": "markdown",
   "metadata": {},
   "source": [
    "### Origin of Nations "
   ]
  },
  {
   "cell_type": "code",
   "execution_count": null,
   "metadata": {},
   "outputs": [],
   "source": []
  },
  {
   "cell_type": "markdown",
   "metadata": {},
   "source": [
    "## Analysis 2: Distribution of artifacts by time"
   ]
  },
  {
   "cell_type": "code",
   "execution_count": null,
   "metadata": {},
   "outputs": [],
   "source": []
  }
 ],
 "metadata": {
  "kernelspec": {
   "display_name": "Python 3",
   "language": "python",
   "name": "python3"
  },
  "language_info": {
   "codemirror_mode": {
    "name": "ipython",
    "version": 3
   },
   "file_extension": ".py",
   "mimetype": "text/x-python",
   "name": "python",
   "nbconvert_exporter": "python",
   "pygments_lexer": "ipython3",
   "version": "3.7.4"
  }
 },
 "nbformat": 4,
 "nbformat_minor": 2
}
