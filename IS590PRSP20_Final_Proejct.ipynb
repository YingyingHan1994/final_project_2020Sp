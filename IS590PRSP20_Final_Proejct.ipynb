{
 "cells": [
  {
   "cell_type": "markdown",
   "source": [
    "# Final Project: Analysis of Two Museum Datasets\n",
    "\n",
    "Name(NetID): Jenna Kim(jkim682) | Yingying Han(yh17) | Xinyu Huang(xinyuh10) \n",
    "\n"
   ],
   "metadata": {
    "collapsed": false
   }
  },
  {
   "cell_type": "markdown",
   "source": [
    "## Data\n",
    "\n",
    "We used three different datasets:\n",
    "\n",
    "1) Two meseum datasets: Metropolitan & Indianapolis  \n",
    "2) World Bank dataset:  \n",
    "3) Ethnicity dataset:\n"
   ],
   "metadata": {
    "collapsed": false
   }
  },
  {
   "cell_type": "markdown",
   "source": [
    "## Data Preprocessing\n",
    "\n",
    "1) We integrated two meseum datasets  \n",
    "2) We merged two World bank datasets   \n",
    "3) We merged two ethnicity datasets"
   ],
   "metadata": {
    "collapsed": false
   }
  },
  {
   "cell_type": "markdown",
   "source": [
    "## Load Data\n",
    "\n",
    "### Yingying & Xinyu, you can work on the following processed datasets\n",
    "#### Note: I integrated three .py scripts we had created for collecting data. Please see \"museum_data.py\" file."
   ],
   "metadata": {
    "collapsed": false
   }
  },
  {
   "cell_type": "code",
   "execution_count": null,
   "outputs": [],
   "source": [
    "import pandas as pd\n",
    "\n",
    "file1 = \"museum.csv\"\n",
    "file2 = \"world_bank.csv\"\n",
    "file3 = \"ethnicity.csv\"\n",
    "    \n",
    "museum_df = pd.read_csv(file1, index_col=False, low_memory=False)\n",
    "population_df = pd.read_csv(file2, index_col=False, low_memory=False)\n",
    "ethnicity_df = pd.read_csv(file3, index_col=False, low_memory=False)"
   ],
   "metadata": {
    "collapsed": false,
    "pycharm": {
     "name": "#%%\n"
    }
   }
  },
  {
   "cell_type": "code",
   "execution_count": null,
   "outputs": [],
   "source": [
    "museum_df.tail()\n",
    "museum_df.shape   # (485632, 15)\n",
    "\n",
    "# population_df.head()\n",
    "population_df.shape   # (263, 5)\n",
    "\n",
    "# ethnicity_df.head()\n",
    "ethnicity_df.shape   # (109, 2)"
   ],
   "metadata": {
    "collapsed": false,
    "pycharm": {
     "name": "#%%\n"
    }
   }
  },
  {
   "cell_type": "markdown",
   "source": [
    "## Analysis 1 : Distribution of artifacts by geographical information"
   ],
   "metadata": {
    "collapsed": false
   }
  },
  {
   "cell_type": "markdown",
   "source": [
    "### Within USA (By States)"
   ],
   "metadata": {
    "collapsed": false
   }
  },
  {
   "cell_type": "code",
   "execution_count": null,
   "outputs": [],
   "source": [],
   "metadata": {
    "collapsed": false,
    "pycharm": {
     "name": "#%%\n"
    }
   }
  },
  {
   "cell_type": "markdown",
   "source": [
    "### Origin of Nations "
   ],
   "metadata": {
    "collapsed": false
   }
  },
  {
   "cell_type": "code",
   "execution_count": null,
   "outputs": [],
   "source": [],
   "metadata": {
    "collapsed": false,
    "pycharm": {
     "name": "#%%\n"
    }
   }
  },
  {
   "cell_type": "markdown",
   "source": [
    "## Analysis 2: Distribution of artifacts by time"
   ],
   "metadata": {
    "collapsed": false
   }
  },
  {
   "cell_type": "code",
   "execution_count": null,
   "outputs": [],
   "source": [
    "import pandas as pd\n",
    "import numpy as np\n",
    "import matplotlib.pyplot as plt\n",
    "from collections import Counter "
   ],
   "metadata": {
    "collapsed": false,
    "pycharm": {
     "name": "#%%\n"
    }
   }
  },
  {
   "cell_type": "markdown",
   "source": [
    "# Basic year inspection before analysis:\n",
    "\n",
    "\n",
    "## (1) How many rows in all in thie file? \n",
    "\n",
    "486732\n",
    "\n",
    "## (2) How many rows do not have year value (nan)?\n",
    "\n",
    "2390\n",
    "\n",
    "## (3) How many unique year values are there (exclude nan value)?\n",
    "2044\n",
    "\n",
    "## (4) What is the year range?\n",
    "from year 400000 BC to 2020 AD."
   ],
   "metadata": {
    "collapsed": false
   }
  },
  {
   "cell_type": "code",
   "execution_count": null,
   "outputs": [],
   "source": [
    "object_year_df = pd.read_csv (\"museum.csv\" ,usecols = [\"ObjectID\",\"ObjectBeginDate\"])\n"
   ],
   "metadata": {
    "collapsed": false,
    "pycharm": {
     "name": "#%%\n"
    }
   }
  },
  {
   "cell_type": "code",
   "execution_count": null,
   "outputs": [],
   "source": [
    "object_year_df.shape"
   ],
   "metadata": {
    "collapsed": false,
    "pycharm": {
     "name": "#%%\n"
    }
   }
  },
  {
   "cell_type": "code",
   "execution_count": null,
   "outputs": [],
   "source": [
    "# How many cells do not have year information?\n",
    "object_year_df[\"ObjectBeginDate\"].isnull().sum()"
   ],
   "metadata": {
    "collapsed": false,
    "pycharm": {
     "name": "#%%\n"
    }
   }
  },
  {
   "cell_type": "code",
   "execution_count": null,
   "outputs": [],
   "source": [
    "object_year_df = object_year_df.dropna(subset = [\"ObjectBeginDate\"]).astype(np.int64)"
   ],
   "metadata": {
    "collapsed": false,
    "pycharm": {
     "name": "#%%\n"
    }
   }
  },
  {
   "cell_type": "code",
   "execution_count": null,
   "outputs": [],
   "source": [
    "object_year_df.shape"
   ],
   "metadata": {
    "collapsed": false,
    "pycharm": {
     "name": "#%%\n"
    }
   }
  },
  {
   "cell_type": "code",
   "execution_count": null,
   "outputs": [],
   "source": [
    "object_year_df[\"ObjectBeginDate\"].unique()\n",
    "len(object_year_df[\"ObjectBeginDate\"].unique())"
   ],
   "metadata": {
    "collapsed": false,
    "pycharm": {
     "name": "#%%\n"
    }
   }
  },
  {
   "cell_type": "code",
   "execution_count": null,
   "outputs": [],
   "source": [
    "# object_year_df.groupby(\"ObjectBeginDate\").size()"
   ],
   "metadata": {
    "collapsed": false,
    "pycharm": {
     "name": "#%%\n"
    }
   }
  },
  {
   "cell_type": "code",
   "execution_count": null,
   "outputs": [],
   "source": [
    "# Drop two rows the object year is \"5000\"\n",
    "object_year_df = object_year_df[object_year_df[\"ObjectBeginDate\"]!=5000]\n",
    "object_year_df.shape"
   ],
   "metadata": {
    "collapsed": false,
    "pycharm": {
     "name": "#%%\n"
    }
   }
  },
  {
   "cell_type": "markdown",
   "source": [
    "# (5) How many objects were created before year zero (before Christ (BC)), in the year zero, and after year zero (anno Domini (AD))?"
   ],
   "metadata": {
    "collapsed": false
   }
  },
  {
   "cell_type": "code",
   "execution_count": null,
   "outputs": [],
   "source": [
    "year_inspection = {}\n",
    "number_of_objects_bc = object_year_df[object_year_df[\"ObjectBeginDate\"]<0].shape[0]\n",
    "number_of_object_year_zero = object_year_df[object_year_df[\"ObjectBeginDate\"]==0].shape[0]\n",
    "number_of_object_ad = object_year_df[object_year_df[\"ObjectBeginDate\"]>0].shape[0]\n",
    "year_inspection[\"BC\"]=number_of_objects_bc\n",
    "year_inspection[\"Year Zero\"] = number_of_object_year_zero\n",
    "year_inspection[\"AD\"]=number_of_object_ad\n",
    "print(year_inspection)"
   ],
   "metadata": {
    "collapsed": false,
    "pycharm": {
     "name": "#%%\n"
    }
   }
  },
  {
   "cell_type": "markdown",
   "source": [
    "# (To be discussed), how to add the number label to the bar? Otherwise, it looks like there were no object created in year zero."
   ],
   "metadata": {
    "collapsed": false
   }
  },
  {
   "cell_type": "markdown",
   "source": [
    "# Brief summary:\n",
    "## 66671 objects were created before BC, year value range from year -400000 to year -1\n",
    "## 415316 object were created after year Zero, year value range from year 1 to year 2020.\n",
    "## Though small amount of objects were created before Year Zero, the year values have a wide range (-400000,-1).\n",
    "## There are a huge amount of objects were created after Year Zero (# 415316), however, the year values cover from year 1 to year 2020 only."
   ],
   "metadata": {
    "collapsed": false
   }
  },
  {
   "cell_type": "code",
   "execution_count": null,
   "outputs": [],
   "source": [
    "plt.rcParams['figure.figsize']=(30,15)\n",
    "plt.rcParams.update({'font.size': 30})"
   ],
   "metadata": {
    "collapsed": false,
    "pycharm": {
     "name": "#%%\n"
    }
   }
  },
  {
   "cell_type": "code",
   "execution_count": null,
   "outputs": [],
   "source": [
    "year_inspection_pd = pd.DataFrame.from_dict(data = year_inspection,orient = \"index\", columns = [\"object number\"])\n",
    "year_inspection_pd.index.name = \"year range\"\n",
    "year_inspection_pd\n",
    "year_inspection_pd.plot.bar(y=\"object number\")"
   ],
   "metadata": {
    "collapsed": false,
    "pycharm": {
     "name": "#%%\n"
    }
   }
  },
  {
   "cell_type": "code",
   "execution_count": null,
   "outputs": [],
   "source": [
    "number_unique_year_bc = len(object_year_df[object_year_df[\"ObjectBeginDate\"]<0][\"ObjectBeginDate\"].unique())\n",
    "number_unique_year_ad = len(object_year_df[object_year_df[\"ObjectBeginDate\"]>0][\"ObjectBeginDate\"].unique())\n",
    "number_unique_year_ad"
   ],
   "metadata": {
    "collapsed": false,
    "pycharm": {
     "name": "#%%\n"
    }
   }
  },
  {
   "cell_type": "code",
   "execution_count": null,
   "outputs": [],
   "source": [
    "object_year_before_zero_df=object_year_df[object_year_df[\"ObjectBeginDate\"]<0]\n",
    "# object_year_before_zero_df\n",
    "\n",
    "object_year_before_zero_list = object_year_before_zero_df[\"ObjectBeginDate\"].tolist()\n",
    "len(object_year_before_zero_list)\n"
   ],
   "metadata": {
    "collapsed": false,
    "pycharm": {
     "name": "#%%\n"
    }
   }
  },
  {
   "cell_type": "markdown",
   "source": [
    "# This is a function categorize the year values which are smaller than 0.\n",
    "## Years that are before year zero are further categorized into 5 types:\n",
    "## (1) before 10,000BC\n",
    "## (2) 10,000 BC - 7500BC\n",
    "## (3) 7500 BC - 5000BC\n",
    "## (4) 5000 BC - 2500 BC\n",
    "## (5) 2500 BC - 0"
   ],
   "metadata": {
    "collapsed": false
   }
  },
  {
   "cell_type": "code",
   "execution_count": null,
   "outputs": [],
   "source": [
    "def categorize_bc_years(bc_year:list)->dict:\n",
    "    bc_categories_dic = {\"1\": (-400000,-10000),\n",
    "        \"2\": (-10000,-7500),\n",
    "        \"3\": (-7500,-5000),\n",
    "        \"4\": (-5000,-2500),\n",
    "        \"5\": (-2500,0)}\n",
    "    a=[]# -400000,-10000\n",
    "    b=[]# -10000,750\n",
    "    c=[]# -7500,-5000\n",
    "    d=[]# -5000,-2500\n",
    "    e=[]# -2500,0\n",
    "    bc_category_distribution = {}\n",
    "    \n",
    "    for object_year in bc_year:\n",
    "        if object_year in range (bc_categories_dic[\"1\"][0],bc_categories_dic[\"1\"][1]):\n",
    "            a.append(object_year)\n",
    "            bc_category_distribution[\"before 10000BC\"] = len(a)\n",
    "            \n",
    "        elif object_year in range(bc_categories_dic[\"2\"][0],bc_categories_dic[\"2\"][1]):\n",
    "            b.append(object_year)\n",
    "            bc_category_distribution[\"10000BC to 7500BC\"] = len(b)\n",
    "            \n",
    "        elif object_year in range(bc_categories_dic[\"3\"][0],bc_categories_dic[\"3\"][1]):\n",
    "            c.append(object_year)\n",
    "            bc_category_distribution[\"7500BC to 5000BC\"] = len(c)\n",
    "            \n",
    "        elif object_year in range(bc_categories_dic[\"4\"][0],bc_categories_dic[\"4\"][1]):\n",
    "            d.append(object_year)\n",
    "            bc_category_distribution[\"5000BC to 2500BC\"] = len(d)\n",
    "        \n",
    "        else:\n",
    "            e.append(object_year)\n",
    "            bc_category_distribution[\"2500BC to Year 0\"] = len(e)\n",
    "\n",
    "    return(bc_category_distribution)"
   ],
   "metadata": {
    "collapsed": false,
    "pycharm": {
     "name": "#%%\n"
    }
   }
  },
  {
   "cell_type": "code",
   "execution_count": null,
   "outputs": [],
   "source": [
    "bc_year_dictionary = categorize_bc_years(object_year_before_zero_list)\n",
    "bc_year_dictionary"
   ],
   "metadata": {
    "collapsed": false,
    "pycharm": {
     "name": "#%%\n"
    }
   }
  },
  {
   "cell_type": "code",
   "execution_count": null,
   "outputs": [],
   "source": [
    "# Source: https://stackoverflow.com/questions/52139110/how-to-change-the-order-of-keys-in-a-python-3-5-dictionary-using-another-list-a\n",
    "key_order =[\"before 10000BC\",\"10000BC to 7500BC\",\"7500BC to 5000BC\",\"5000BC to 2500BC\",\"2500BC to Year 0\"]\n",
    "bc_year_dictionary_sorted= {k : bc_year_dictionary[k] for k in key_order}\n",
    "bc_year_dictionary_sorted"
   ],
   "metadata": {
    "collapsed": false,
    "pycharm": {
     "name": "#%%\n"
    }
   }
  },
  {
   "cell_type": "code",
   "execution_count": null,
   "outputs": [],
   "source": [
    "distribution_df = pd.DataFrame.from_dict(bc_year_dictionary_sorted,\n",
    "                                              orient='index',\n",
    "                                              columns = [\"object number\"])"
   ],
   "metadata": {
    "collapsed": false,
    "pycharm": {
     "name": "#%%\n"
    }
   }
  },
  {
   "cell_type": "code",
   "execution_count": null,
   "outputs": [],
   "source": [
    "distribution_df.index.name = \"year range\"\n",
    "\n",
    "distribution_df.plot(y=\"object number\")"
   ],
   "metadata": {
    "collapsed": false,
    "pycharm": {
     "name": "#%%\n"
    }
   }
  },
  {
   "cell_type": "code",
   "execution_count": null,
   "outputs": [],
   "source": [
    "distribution_df.plot.bar(y=\"object number\")"
   ],
   "metadata": {
    "collapsed": false,
    "pycharm": {
     "name": "#%%\n"
    }
   }
  },
  {
   "cell_type": "markdown",
   "source": [
    "# From the above two graphs, we can see that for those objects which were created before year zero as well as collected by museums, most of them were created between 2500 BC and year Zero. "
   ],
   "metadata": {
    "collapsed": false
   }
  },
  {
   "cell_type": "code",
   "execution_count": null,
   "outputs": [],
   "source": [
    "object_year_after_zero_df=object_year_df[object_year_df[\"ObjectBeginDate\"]>0]\n",
    "# object_year_after_zero_df"
   ],
   "metadata": {
    "collapsed": false,
    "pycharm": {
     "name": "#%%\n"
    }
   }
  },
  {
   "cell_type": "markdown",
   "source": [
    "# This is a function convert year value to century value."
   ],
   "metadata": {
    "collapsed": false
   }
  },
  {
   "cell_type": "code",
   "execution_count": null,
   "outputs": [],
   "source": [
    "def year_to_century(year:list) ->list:\n",
    "    century = []\n",
    "    for year_value in year:\n",
    "        if year_value > 0:\n",
    "            century_value = int(year_value/100)+1\n",
    "            century.append(century_value)\n",
    "        elif year_value == 0:\n",
    "            century_value = 0\n",
    "            century.append(century_value)\n",
    "        else:\n",
    "            century_value = int(year_value/100)-1\n",
    "            century.append(century_value)\n",
    "    return(century)"
   ],
   "metadata": {
    "collapsed": false,
    "pycharm": {
     "name": "#%%\n"
    }
   }
  },
  {
   "cell_type": "code",
   "execution_count": null,
   "outputs": [],
   "source": [
    "object_year_after_zero_list = object_year_after_zero_df[\"ObjectBeginDate\"].tolist()"
   ],
   "metadata": {
    "collapsed": false,
    "pycharm": {
     "name": "#%%\n"
    }
   }
  },
  {
   "cell_type": "code",
   "execution_count": null,
   "outputs": [],
   "source": [
    "len(object_year_after_zero_list)"
   ],
   "metadata": {
    "collapsed": false,
    "pycharm": {
     "name": "#%%\n"
    }
   }
  },
  {
   "cell_type": "code",
   "execution_count": null,
   "outputs": [],
   "source": [
    "object_century_after_zero_list = year_to_century(object_year_after_zero_list)\n",
    "# object_century_after_zero_list"
   ],
   "metadata": {
    "collapsed": false,
    "pycharm": {
     "name": "#%%\n"
    }
   }
  },
  {
   "cell_type": "code",
   "execution_count": null,
   "outputs": [],
   "source": [
    "#Source: https://stackoverflow.com/questions/20665232/how-to-plot-the-number-of-times-each-element-is-in-a-list\n",
    "counts_after_zero = Counter(object_century_after_zero_list)"
   ],
   "metadata": {
    "collapsed": false,
    "pycharm": {
     "name": "#%%\n"
    }
   }
  },
  {
   "cell_type": "code",
   "execution_count": null,
   "outputs": [],
   "source": [
    "counts_after_zero"
   ],
   "metadata": {
    "collapsed": false,
    "pycharm": {
     "name": "#%%\n"
    }
   }
  },
  {
   "cell_type": "code",
   "execution_count": null,
   "outputs": [],
   "source": [
    "import collections\n",
    "# Source: https://stackoverflow.com/questions/9001509/how-can-i-sort-a-dictionary-by-key\n",
    "counts_after_zero_sorted = collections.OrderedDict(sorted(counts_after_zero.items()))\n",
    "counts_after_zero_sorted"
   ],
   "metadata": {
    "collapsed": false,
    "pycharm": {
     "name": "#%%\n"
    }
   }
  },
  {
   "cell_type": "code",
   "execution_count": null,
   "outputs": [],
   "source": [
    "ad_century_distribution_df = pd.DataFrame.from_dict(counts_after_zero_sorted,orient='index',\n",
    "                                              columns = [\"object number\"])\n",
    "ad_century_distribution_df.index.name = \"century\""
   ],
   "metadata": {
    "collapsed": false,
    "pycharm": {
     "name": "#%%\n"
    }
   }
  },
  {
   "cell_type": "code",
   "execution_count": null,
   "outputs": [],
   "source": [
    "century_percent_list = []\n",
    "for object_number_by_century in counts_after_zero_sorted.values():\n",
    "    \n",
    "    object_percent = object_number_by_century/415316*100\n",
    "    \n",
    "    century_percent_list.append(object_percent)\n",
    "print(century_percent_list)"
   ],
   "metadata": {
    "collapsed": false,
    "pycharm": {
     "name": "#%%\n"
    }
   }
  },
  {
   "cell_type": "code",
   "execution_count": null,
   "outputs": [],
   "source": [
    "ad_century_distribution_df[\"object_percent\"]=century_percent_list"
   ],
   "metadata": {
    "collapsed": false,
    "pycharm": {
     "name": "#%%\n"
    }
   }
  },
  {
   "cell_type": "code",
   "execution_count": null,
   "outputs": [],
   "source": [
    "ad_century_distribution_df"
   ],
   "metadata": {
    "collapsed": false,
    "pycharm": {
     "name": "#%%\n"
    }
   }
  },
  {
   "cell_type": "code",
   "execution_count": null,
   "outputs": [],
   "source": [
    "ad_century_distribution_df.plot.bar(y=\"object number\",title = \"object number by century\")"
   ],
   "metadata": {
    "collapsed": false,
    "pycharm": {
     "name": "#%%\n"
    }
   }
  },
  {
   "cell_type": "code",
   "execution_count": null,
   "outputs": [],
   "source": [
    "ad_century_distribution_df.plot.pie(y=\"object_percent\",title = \"object number by century\")"
   ],
   "metadata": {
    "collapsed": false,
    "pycharm": {
     "name": "#%%\n"
    }
   }
  }
 ],
 "metadata": {
  "kernelspec": {
   "display_name": "Python 3",
   "language": "python",
   "name": "python3"
  },
  "language_info": {
   "codemirror_mode": {
    "name": "ipython",
    "version": 3
   },
   "file_extension": ".py",
   "mimetype": "text/x-python",
   "name": "python",
   "nbconvert_exporter": "python",
   "pygments_lexer": "ipython3",
   "version": "3.7.3"
  },
  "pycharm": {
   "stem_cell": {
    "cell_type": "raw",
    "source": [],
    "metadata": {
     "collapsed": false
    }
   }
  }
 },
 "nbformat": 4,
 "nbformat_minor": 2
}
