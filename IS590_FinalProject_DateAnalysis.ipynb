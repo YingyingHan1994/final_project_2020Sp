{
 "cells": [
  {
   "cell_type": "code",
   "execution_count": 1,
   "metadata": {
    "pycharm": {
     "is_executing": false
    }
   },
   "outputs": [
    {
     "traceback": [
      "\u001b[1;31m---------------------------------------------------------------------------\u001b[0m",
      "\u001b[1;31mModuleNotFoundError\u001b[0m                       Traceback (most recent call last)",
      "\u001b[1;32m<ipython-input-1-889575925b72>\u001b[0m in \u001b[0;36m<module>\u001b[1;34m\u001b[0m\n\u001b[1;32m----> 1\u001b[1;33m \u001b[1;32mimport\u001b[0m \u001b[0mpandas\u001b[0m \u001b[1;32mas\u001b[0m \u001b[0mpd\u001b[0m\u001b[1;33m\u001b[0m\u001b[1;33m\u001b[0m\u001b[0m\n\u001b[0m\u001b[0;32m      2\u001b[0m \u001b[1;32mimport\u001b[0m \u001b[0mnumpy\u001b[0m \u001b[1;32mas\u001b[0m \u001b[0mnp\u001b[0m\u001b[1;33m\u001b[0m\u001b[1;33m\u001b[0m\u001b[0m\n\u001b[0;32m      3\u001b[0m \u001b[1;32mimport\u001b[0m \u001b[0mmatplotlib\u001b[0m\u001b[1;33m.\u001b[0m\u001b[0mpyplot\u001b[0m \u001b[1;32mas\u001b[0m \u001b[0mplt\u001b[0m\u001b[1;33m\u001b[0m\u001b[1;33m\u001b[0m\u001b[0m\n\u001b[0;32m      4\u001b[0m \u001b[1;32mfrom\u001b[0m \u001b[0mcollections\u001b[0m \u001b[1;32mimport\u001b[0m \u001b[0mCounter\u001b[0m\u001b[1;33m\u001b[0m\u001b[1;33m\u001b[0m\u001b[0m\n\u001b[0;32m      5\u001b[0m \u001b[1;33m\u001b[0m\u001b[0m\n",
      "\u001b[1;31mModuleNotFoundError\u001b[0m: No module named 'pandas'"
     ],
     "ename": "ModuleNotFoundError",
     "evalue": "No module named 'pandas'",
     "output_type": "error"
    }
   ],
   "source": [
    "import pandas as pd\n",
    "import numpy as np\n",
    "import matplotlib.pyplot as plt\n",
    "from collections import Counter \n"
   ]
  },
  {
   "cell_type": "markdown",
   "metadata": {},
   "source": [
    "# Basic year inspection before analysis:\n",
    "\n",
    "\n",
    "## (1) How many rows in all in thie file? \n",
    "\n",
    "486732\n",
    "\n",
    "## (2) How many rows do not have year value (nan)?\n",
    "\n",
    "2390\n",
    "\n",
    "## (3) How many unique year values are there (exclude nan value)?\n",
    "2044\n",
    "\n",
    "## (4) What is the year range?\n",
    "from year 400000 BC to 2020 AD.\n"
   ]
  },
  {
   "cell_type": "code",
   "execution_count": null,
   "metadata": {
    "pycharm": {
     "is_executing": false
    }
   },
   "outputs": [],
   "source": [
    "object_year_df = pd.read_csv (\"museum.csv\" ,usecols = [\"ObjectID\",\"ObjectBeginDate\"])\n"
   ]
  },
  {
   "cell_type": "code",
   "execution_count": null,
   "metadata": {
    "pycharm": {
     "is_executing": false
    }
   },
   "outputs": [],
   "source": [
    "object_year_df.shape"
   ]
  },
  {
   "cell_type": "code",
   "execution_count": null,
   "metadata": {
    "pycharm": {
     "is_executing": false
    }
   },
   "outputs": [],
   "source": [
    "# object_year_df.head()"
   ]
  },
  {
   "cell_type": "code",
   "execution_count": null,
   "metadata": {
    "pycharm": {
     "is_executing": false
    }
   },
   "outputs": [],
   "source": [
    "# How many cells do not have year information?\n",
    "object_year_df[\"ObjectBeginDate\"].isnull().sum()"
   ]
  },
  {
   "cell_type": "code",
   "execution_count": null,
   "metadata": {
    "pycharm": {
     "is_executing": false
    }
   },
   "outputs": [],
   "source": [
    "# For those cells do not have year information, I cannot convert the data to the format of int 64.\n",
    "# As such, I convert the the those year value from nan to 0 first then convert all the year value to the format of int64\n",
    "# (source:https://www.geeksforgeeks.org/python-pandas-dataframe-fillna-to-replace-null-values-in-dataframe/)"
   ]
  },
  {
   "cell_type": "code",
   "execution_count": null,
   "metadata": {
    "pycharm": {
     "is_executing": false
    }
   },
   "outputs": [],
   "source": [
    "# Drop the rows of which ObjectBeginDate information is missing."
   ]
  },
  {
   "cell_type": "code",
   "execution_count": null,
   "metadata": {
    "pycharm": {
     "is_executing": false
    }
   },
   "outputs": [],
   "source": [
    "object_year_df = object_year_df.dropna(subset = [\"ObjectBeginDate\"]).astype(np.int64)\n"
   ]
  },
  {
   "cell_type": "code",
   "execution_count": null,
   "metadata": {
    "pycharm": {
     "is_executing": false
    }
   },
   "outputs": [],
   "source": [
    "object_year_df.shape"
   ]
  },
  {
   "cell_type": "code",
   "execution_count": null,
   "metadata": {
    "pycharm": {
     "is_executing": false
    }
   },
   "outputs": [],
   "source": [
    "object_year_df[\"ObjectBeginDate\"].unique()\n",
    "len(object_year_df[\"ObjectBeginDate\"].unique())"
   ]
  },
  {
   "cell_type": "code",
   "execution_count": null,
   "metadata": {
    "pycharm": {
     "is_executing": false
    }
   },
   "outputs": [],
   "source": [
    "# object_year_df.groupby(\"ObjectBeginDate\").size()\n"
   ]
  },
  {
   "cell_type": "code",
   "execution_count": null,
   "metadata": {
    "pycharm": {
     "is_executing": false
    }
   },
   "outputs": [],
   "source": [
    "# Drop two rows the object year is \"5000\"\n",
    "object_year_df = object_year_df[object_year_df[\"ObjectBeginDate\"]!=5000]\n",
    "object_year_df.shape"
   ]
  },
  {
   "cell_type": "markdown",
   "metadata": {},
   "source": [
    "# (5) How many objects were created before year zero (before Christ (BC)), in the year zero, and after year zero (anno Domini (AD))?\n"
   ]
  },
  {
   "cell_type": "code",
   "execution_count": null,
   "metadata": {
    "pycharm": {
     "is_executing": false
    }
   },
   "outputs": [],
   "source": [
    "year_inspection = {}\n",
    "number_of_objects_bc = object_year_df[object_year_df[\"ObjectBeginDate\"]<0].shape[0]\n",
    "number_of_object_year_zero = object_year_df[object_year_df[\"ObjectBeginDate\"]==0].shape[0]\n",
    "number_of_object_ad = object_year_df[object_year_df[\"ObjectBeginDate\"]>0].shape[0]\n",
    "year_inspection[\"BC\"]=number_of_objects_bc\n",
    "year_inspection[\"Year Zero\"] = number_of_object_year_zero\n",
    "year_inspection[\"AD\"]=number_of_object_ad\n",
    "print(year_inspection)"
   ]
  },
  {
   "cell_type": "markdown",
   "metadata": {},
   "source": [
    "# # (To be discussed), how to add the number label to the bar? Otherwise, it looks like there were no object created in year zero."
   ]
  },
  {
   "cell_type": "markdown",
   "metadata": {},
   "source": [
    "# Brief summary:\n",
    "## 66671 objects were created before BC, year value range from year -400000 to year -1\n",
    "## 415316 object were created after year Zero, year value range from year 1 to year 2020.\n",
    "## Though small amount of objects were created before Year Zero, the year values have a wide range (-400000,-1).\n",
    "## There are a huge amount of objects were created after Year Zero (# 415316), however, the year values cover from year 1 to year 2020 only."
   ]
  },
  {
   "cell_type": "code",
   "execution_count": null,
   "metadata": {
    "pycharm": {
     "is_executing": false
    }
   },
   "outputs": [],
   "source": [
    "plt.rcParams['figure.figsize']=(30,15)\n",
    "plt.rcParams.update({'font.size': 30})"
   ]
  },
  {
   "cell_type": "code",
   "execution_count": null,
   "metadata": {
    "pycharm": {
     "is_executing": false
    }
   },
   "outputs": [],
   "source": [
    "year_inspection_pd = pd.DataFrame.from_dict(data = year_inspection,orient = \"index\", columns = [\"object number\"])\n",
    "year_inspection_pd.index.name = \"year range\"\n",
    "year_inspection_pd\n",
    "year_inspection_pd.plot.bar(y=\"object number\")"
   ]
  },
  {
   "cell_type": "code",
   "execution_count": null,
   "metadata": {
    "pycharm": {
     "is_executing": false
    }
   },
   "outputs": [],
   "source": [
    "number_unique_year_bc = len(object_year_df[object_year_df[\"ObjectBeginDate\"]<0][\"ObjectBeginDate\"].unique())\n",
    "number_unique_year_ad = len(object_year_df[object_year_df[\"ObjectBeginDate\"]>0][\"ObjectBeginDate\"].unique())\n",
    "number_unique_year_ad"
   ]
  },
  {
   "cell_type": "markdown",
   "metadata": {},
   "source": []
  },
  {
   "cell_type": "code",
   "execution_count": null,
   "metadata": {
    "pycharm": {
     "is_executing": false
    }
   },
   "outputs": [],
   "source": [
    "# object_year_df[object_year_df[\"ObjectBeginDate\"]<0].groupby(\"ObjectBeginDate\").size() \n",
    "#66671 objects were created before BC, year value range from year -4000000 to year -1\n",
    "\n",
    "# object_year_df[object_year_df[\"ObjectBeginDate\"]>0].groupby(\"ObjectBeginDate\").size() \n",
    "\n",
    "# 415316 object were created after year Zero, year value range from year 1 to year 2020."
   ]
  },
  {
   "cell_type": "code",
   "execution_count": null,
   "metadata": {
    "pycharm": {
     "is_executing": false
    }
   },
   "outputs": [],
   "source": [
    "object_year_before_zero_df=object_year_df[object_year_df[\"ObjectBeginDate\"]<0]\n",
    "# object_year_before_zero_df"
   ]
  },
  {
   "cell_type": "code",
   "execution_count": null,
   "metadata": {
    "pycharm": {
     "is_executing": false
    }
   },
   "outputs": [],
   "source": [
    "object_year_before_zero_list = object_year_before_zero_df[\"ObjectBeginDate\"].tolist()\n",
    "len(object_year_before_zero_list)"
   ]
  },
  {
   "cell_type": "code",
   "execution_count": null,
   "metadata": {
    "pycharm": {
     "is_executing": false
    }
   },
   "outputs": [],
   "source": [
    "object_year_after_zero_list = object_year_after_zero_df[\"ObjectBeginDate\"].tolist()\n",
    "len(object_year_after_zero_list)"
   ]
  },
  {
   "cell_type": "markdown",
   "metadata": {},
   "source": [
    "## This is a function categorize the year values which are smaller than 0.\n",
    "## Years that are before year zero are further categorized into 5 types:\n",
    "## (1) before 10,000BC\n",
    "## (2) 10,000 BC - 7500BC\n",
    "## (3) 7500 BC - 5000BC\n",
    "## (4) 5000 BC - 2500 BC\n",
    "## (5) 2500 BC - 0"
   ]
  },
  {
   "cell_type": "code",
   "execution_count": null,
   "metadata": {
    "pycharm": {
     "is_executing": false
    }
   },
   "outputs": [],
   "source": [
    "def categorize_bc_years(bc_year:list)->dict:\n",
    "    bc_categories_dic = {\"1\": (-400000,-10000),\n",
    "        \"2\": (-10000,-7500),\n",
    "        \"3\": (-7500,-5000),\n",
    "        \"4\": (-5000,-2500),\n",
    "        \"5\": (-2500,0)}\n",
    "    a=[]# -400000,-10000\n",
    "    b=[]# -10000,750\n",
    "    c=[]# -7500,-5000\n",
    "    d=[]# -5000,-2500\n",
    "    e=[]# -2500,0\n",
    "    bc_category_distribution = {}\n",
    "    \n",
    "    for object_year in bc_year:\n",
    "        if object_year in range (bc_categories_dic[\"1\"][0],bc_categories_dic[\"1\"][1]):\n",
    "            a.append(object_year)\n",
    "            bc_category_distribution[\"before 10000BC\"] = len(a)\n",
    "            \n",
    "        elif object_year in range(bc_categories_dic[\"2\"][0],bc_categories_dic[\"2\"][1]):\n",
    "            b.append(object_year)\n",
    "            bc_category_distribution[\"10000BC to 7500BC\"] = len(b)\n",
    "            \n",
    "        elif object_year in range(bc_categories_dic[\"3\"][0],bc_categories_dic[\"3\"][1]):\n",
    "            c.append(object_year)\n",
    "            bc_category_distribution[\"7500BC to 5000BC\"] = len(c)\n",
    "            \n",
    "        elif object_year in range(bc_categories_dic[\"4\"][0],bc_categories_dic[\"4\"][1]):\n",
    "            d.append(object_year)\n",
    "            bc_category_distribution[\"5000BC to 2500BC\"] = len(d)\n",
    "        \n",
    "        else:\n",
    "            e.append(object_year)\n",
    "            bc_category_distribution[\"2500BC to Year 0\"] = len(e)\n",
    "\n",
    "    return(bc_category_distribution)"
   ]
  },
  {
   "cell_type": "code",
   "execution_count": null,
   "metadata": {
    "pycharm": {
     "is_executing": false
    }
   },
   "outputs": [],
   "source": [
    "bc_year_dictionary = categorize_bc_years(object_year_before_zero_list)\n",
    "bc_year_dictionary"
   ]
  },
  {
   "cell_type": "code",
   "execution_count": null,
   "metadata": {
    "pycharm": {
     "is_executing": false
    }
   },
   "outputs": [],
   "source": [
    "# Source: https://stackoverflow.com/questions/52139110/how-to-change-the-order-of-keys-in-a-python-3-5-dictionary-using-another-list-a\n",
    "key_order =[\"before 10000BC\",\"10000BC to 7500BC\",\"7500BC to 5000BC\",\"5000BC to 2500BC\",\"2500BC to Year 0\"]\n",
    "bc_year_dictionary_sorted= {k : bc_year_dictionary[k] for k in key_order}\n",
    "bc_year_dictionary_sorted\n"
   ]
  },
  {
   "cell_type": "code",
   "execution_count": null,
   "metadata": {
    "pycharm": {
     "is_executing": false
    }
   },
   "outputs": [],
   "source": [
    "distribution_df = pd.DataFrame.from_dict(bc_year_dictionary_sorted,\n",
    "                                              orient='index',\n",
    "                                              columns = [\"object number\"])"
   ]
  },
  {
   "cell_type": "code",
   "execution_count": null,
   "metadata": {
    "pycharm": {
     "is_executing": false
    }
   },
   "outputs": [],
   "source": [
    "distribution_df.index.name = \"year range\"\n",
    "\n",
    "distribution_df.plot(y=\"object number\")"
   ]
  },
  {
   "cell_type": "code",
   "execution_count": null,
   "metadata": {
    "pycharm": {
     "is_executing": false
    }
   },
   "outputs": [],
   "source": [
    "distribution_df.plot.bar(y=\"object number\")"
   ]
  },
  {
   "cell_type": "markdown",
   "metadata": {},
   "source": [
    "## From the above two graphs, we can see that for those objects which were created before year zero as well as collected by museums, most of them were created between 2500 BC and year Zero. "
   ]
  },
  {
   "cell_type": "code",
   "execution_count": null,
   "metadata": {
    "pycharm": {
     "is_executing": false
    }
   },
   "outputs": [],
   "source": [
    "object_year_after_zero_df=object_year_df[object_year_df[\"ObjectBeginDate\"]>0]\n",
    "# object_year_after_zero_df"
   ]
  },
  {
   "cell_type": "markdown",
   "metadata": {},
   "source": [
    "## This is a function convert year value to century value."
   ]
  },
  {
   "cell_type": "code",
   "execution_count": null,
   "metadata": {
    "pycharm": {
     "is_executing": false
    }
   },
   "outputs": [],
   "source": [
    "def year_to_century(year:list) ->list:\n",
    "    century = []\n",
    "    for year_value in year:\n",
    "        if year_value > 0:\n",
    "            century_value = int(year_value/100)+1\n",
    "            century.append(century_value)\n",
    "        elif year_value == 0:\n",
    "            century_value = 0\n",
    "            century.append(century_value)\n",
    "        else:\n",
    "            century_value = int(year_value/100)-1\n",
    "            century.append(century_value)\n",
    "    return(century)"
   ]
  },
  {
   "cell_type": "code",
   "execution_count": null,
   "metadata": {
    "pycharm": {
     "is_executing": false
    }
   },
   "outputs": [],
   "source": [
    "object_year_after_zero_list = object_year_after_zero_df[\"ObjectBeginDate\"].tolist()"
   ]
  },
  {
   "cell_type": "code",
   "execution_count": null,
   "metadata": {
    "pycharm": {
     "is_executing": false
    }
   },
   "outputs": [],
   "source": [
    "len(object_year_after_zero_list)"
   ]
  },
  {
   "cell_type": "code",
   "execution_count": 2,
   "metadata": {
    "pycharm": {
     "is_executing": false
    }
   },
   "outputs": [
    {
     "traceback": [
      "\u001b[1;31m---------------------------------------------------------------------------\u001b[0m",
      "\u001b[1;31mNameError\u001b[0m                                 Traceback (most recent call last)",
      "\u001b[1;32m<ipython-input-2-d884833f9b60>\u001b[0m in \u001b[0;36m<module>\u001b[1;34m\u001b[0m\n\u001b[1;32m----> 1\u001b[1;33m \u001b[0mobject_century_after_zero_list\u001b[0m \u001b[1;33m=\u001b[0m \u001b[0myear_to_century\u001b[0m\u001b[1;33m(\u001b[0m\u001b[0mobject_year_after_zero_list\u001b[0m\u001b[1;33m)\u001b[0m\u001b[1;33m\u001b[0m\u001b[1;33m\u001b[0m\u001b[0m\n\u001b[0m\u001b[0;32m      2\u001b[0m \u001b[1;31m# object_century_after_zero_list\u001b[0m\u001b[1;33m\u001b[0m\u001b[1;33m\u001b[0m\u001b[1;33m\u001b[0m\u001b[0m\n\u001b[0;32m      3\u001b[0m \u001b[1;33m\u001b[0m\u001b[0m\n",
      "\u001b[1;31mNameError\u001b[0m: name 'year_to_century' is not defined"
     ],
     "ename": "NameError",
     "evalue": "name 'year_to_century' is not defined",
     "output_type": "error"
    }
   ],
   "source": [
    "object_century_after_zero_list = year_to_century(object_year_after_zero_list)\n",
    "# object_century_after_zero_list"
   ]
  },
  {
   "cell_type": "code",
   "execution_count": 3,
   "metadata": {
    "pycharm": {
     "is_executing": false
    }
   },
   "outputs": [
    {
     "traceback": [
      "\u001b[1;31m---------------------------------------------------------------------------\u001b[0m",
      "\u001b[1;31mNameError\u001b[0m                                 Traceback (most recent call last)",
      "\u001b[1;32m<ipython-input-3-46b69763ff45>\u001b[0m in \u001b[0;36m<module>\u001b[1;34m\u001b[0m\n\u001b[0;32m      1\u001b[0m \u001b[1;31m#Source: https://stackoverflow.com/questions/20665232/how-to-plot-the-number-of-times-each-element-is-in-a-list\u001b[0m\u001b[1;33m\u001b[0m\u001b[1;33m\u001b[0m\u001b[1;33m\u001b[0m\u001b[0m\n\u001b[1;32m----> 2\u001b[1;33m \u001b[0mcounts_after_zero\u001b[0m \u001b[1;33m=\u001b[0m \u001b[0mCounter\u001b[0m\u001b[1;33m(\u001b[0m\u001b[0mobject_century_after_zero_list\u001b[0m\u001b[1;33m)\u001b[0m\u001b[1;33m\u001b[0m\u001b[1;33m\u001b[0m\u001b[0m\n\u001b[0m\u001b[0;32m      3\u001b[0m \u001b[1;33m\u001b[0m\u001b[0m\n",
      "\u001b[1;31mNameError\u001b[0m: name 'Counter' is not defined"
     ],
     "ename": "NameError",
     "evalue": "name 'Counter' is not defined",
     "output_type": "error"
    }
   ],
   "source": [
    "#Source: https://stackoverflow.com/questions/20665232/how-to-plot-the-number-of-times-each-element-is-in-a-list\n",
    "counts_after_zero = Counter(object_century_after_zero_list)"
   ]
  },
  {
   "cell_type": "code",
   "execution_count": null,
   "metadata": {
    "pycharm": {
     "is_executing": false
    }
   },
   "outputs": [],
   "source": [
    "counts_after_zero"
   ]
  },
  {
   "cell_type": "code",
   "execution_count": null,
   "metadata": {
    "pycharm": {
     "is_executing": false
    }
   },
   "outputs": [],
   "source": [
    "import collections\n",
    "# Source: https://stackoverflow.com/questions/9001509/how-can-i-sort-a-dictionary-by-key\n",
    "counts_after_zero_sorted = collections.OrderedDict(sorted(counts_after_zero.items()))\n",
    "counts_after_zero_sorted"
   ]
  },
  {
   "cell_type": "code",
   "execution_count": null,
   "metadata": {
    "pycharm": {
     "is_executing": false
    }
   },
   "outputs": [],
   "source": [
    "ad_century_distribution_df = pd.DataFrame.from_dict(counts_after_zero_sorted,orient='index',\n",
    "                                              columns = [\"object number\"])\n",
    "ad_century_distribution_df.index.name = \"century\""
   ]
  },
  {
   "cell_type": "code",
   "execution_count": null,
   "metadata": {
    "pycharm": {
     "is_executing": false
    }
   },
   "outputs": [],
   "source": [
    "century_percent_list = []\n",
    "for object_number_by_century in counts_after_zero_sorted.values():\n",
    "    \n",
    "    object_percent = object_number_by_century/415316*100\n",
    "    \n",
    "    century_percent_list.append(object_percent)\n",
    "print(century_percent_list)"
   ]
  },
  {
   "cell_type": "code",
   "execution_count": null,
   "metadata": {
    "pycharm": {
     "is_executing": false
    }
   },
   "outputs": [],
   "source": [
    "ad_century_distribution_df[\"object_percent\"]=century_percent_list"
   ]
  },
  {
   "cell_type": "code",
   "execution_count": null,
   "metadata": {
    "pycharm": {
     "is_executing": false
    }
   },
   "outputs": [],
   "source": [
    "ad_century_distribution_df"
   ]
  },
  {
   "cell_type": "code",
   "execution_count": null,
   "metadata": {
    "pycharm": {
     "is_executing": false
    }
   },
   "outputs": [],
   "source": [
    "ad_century_distribution_df.plot.bar(y=\"object number\",title = \"object number by century\")"
   ]
  },
  {
   "cell_type": "code",
   "execution_count": null,
   "metadata": {
    "pycharm": {
     "is_executing": false
    }
   },
   "outputs": [],
   "source": [
    "ad_century_distribution_df.plot.pie(y=\"object_percent\",title = \"object number by century\")"
   ]
  },
  {
   "cell_type": "code",
   "execution_count": null,
   "metadata": {
    "pycharm": {
     "is_executing": false
    }
   },
   "outputs": [],
   "source": []
  }
 ],
 "metadata": {
  "kernelspec": {
   "display_name": "Python 3",
   "language": "python",
   "name": "python3"
  },
  "language_info": {
   "codemirror_mode": {
    "name": "ipython",
    "version": 3
   },
   "file_extension": ".py",
   "mimetype": "text/x-python",
   "name": "python",
   "nbconvert_exporter": "python",
   "pygments_lexer": "ipython3",
   "version": "3.7.3"
  }
 },
 "nbformat": 4,
 "nbformat_minor": 2
}
